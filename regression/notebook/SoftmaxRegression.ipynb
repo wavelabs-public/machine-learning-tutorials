{
 "cells": [
  {
   "cell_type": "code",
   "execution_count": 1,
   "metadata": {},
   "outputs": [],
   "source": [
    "from sklearn import datasets\n",
    "\n",
    "iris = datasets.load_iris()\n",
    "X = iris.data[:, (2, 3)]\n",
    "y = iris.target"
   ]
  },
  {
   "cell_type": "code",
   "execution_count": 2,
   "metadata": {},
   "outputs": [],
   "source": [
    "from sklearn.model_selection import train_test_split\n",
    "\n",
    "X_train, X_test, y_train, y_test = train_test_split(X, y, test_size=0.2, random_state=0)"
   ]
  },
  {
   "cell_type": "code",
   "execution_count": 3,
   "metadata": {},
   "outputs": [
    {
     "name": "stdout",
     "output_type": "stream",
     "text": [
      "120\n",
      "(30, 2)\n",
      "(120,)\n",
      "(30,)\n"
     ]
    }
   ],
   "source": [
    "print(X_train.shape[0])\n",
    "print(X_test.shape)\n",
    "print(y_train.shape)\n",
    "print(y_test.shape)"
   ]
  },
  {
   "cell_type": "code",
   "execution_count": 4,
   "metadata": {},
   "outputs": [
    {
     "data": {
      "text/plain": [
       "LogisticRegression(C=1.0, class_weight=None, dual=False, fit_intercept=True,\n",
       "          intercept_scaling=1, max_iter=100, multi_class='multinomial',\n",
       "          n_jobs=1, penalty='l2', random_state=None, solver='lbfgs',\n",
       "          tol=0.0001, verbose=0, warm_start=False)"
      ]
     },
     "execution_count": 4,
     "metadata": {},
     "output_type": "execute_result"
    }
   ],
   "source": [
    "from sklearn.linear_model import LogisticRegression\n",
    "\n",
    "softmax_reg = LogisticRegression(multi_class=\"multinomial\", solver=\"lbfgs\")\n",
    "softmax_reg.fit(X_train, y_train)"
   ]
  },
  {
   "cell_type": "code",
   "execution_count": 5,
   "metadata": {},
   "outputs": [
    {
     "data": {
      "text/plain": [
       "array([2])"
      ]
     },
     "execution_count": 5,
     "metadata": {},
     "output_type": "execute_result"
    }
   ],
   "source": [
    "softmax_reg.predict([X_test[0, :]])"
   ]
  },
  {
   "cell_type": "code",
   "execution_count": 6,
   "metadata": {},
   "outputs": [
    {
     "data": {
      "text/plain": [
       "array([[  7.72447076e-05,   7.40262929e-02,   9.25896462e-01]])"
      ]
     },
     "execution_count": 6,
     "metadata": {},
     "output_type": "execute_result"
    }
   ],
   "source": [
    "softmax_reg.predict_proba([X_test[0, :]])"
   ]
  },
  {
   "cell_type": "code",
   "execution_count": 7,
   "metadata": {},
   "outputs": [
    {
     "data": {
      "text/plain": [
       "1.0"
      ]
     },
     "execution_count": 7,
     "metadata": {},
     "output_type": "execute_result"
    }
   ],
   "source": [
    "softmax_reg.score(X_test, y_test)"
   ]
  },
  {
   "cell_type": "code",
   "execution_count": 8,
   "metadata": {},
   "outputs": [],
   "source": [
    "import numpy as np\n",
    "\n",
    "# train data\n",
    "setosa = []\n",
    "versicolor = []\n",
    "virginica = []\n",
    "for i in range(0, X_train.shape[0]):\n",
    "    if(y_train[i] == 0):\n",
    "        setosa.append([X_train[i, 0], X_train[i, 1]])\n",
    "    elif (y_train[i] == 1):\n",
    "        versicolor.append([X_train[i, 0], X_train[i, 1]])\n",
    "    else:\n",
    "        virginica.append([X_train[i, 0], X_train[i, 1]])\n",
    "    pass\n",
    "setosa = np.asarray(setosa)\n",
    "versicolor = np.asarray(versicolor)\n",
    "virginica = np.asarray(virginica)\n",
    "\n",
    "#test data\n",
    "setosa_test = []\n",
    "versicolor_test = []\n",
    "virginica_test = []\n",
    "\n",
    "for i in range(0, X_test.shape[0]):\n",
    "    if(y_test[i] == 0):\n",
    "        setosa_test.append([X_test[i, 0], X_test[i, 1]])\n",
    "    elif (y_test[i] == 1):\n",
    "        versicolor_test.append([X_test[i, 0], X_test[i, 1]])\n",
    "    else:\n",
    "        virginica_test.append([X_test[i, 0], X_test[i, 1]])\n",
    "    pass\n",
    "setosa_test = np.asarray(setosa_test)\n",
    "versicolor_test = np.asarray(versicolor_test)\n",
    "virginica_test = np.asarray(virginica_test)\n",
    "\n"
   ]
  },
  {
   "cell_type": "code",
   "execution_count": 27,
   "metadata": {},
   "outputs": [
    {
     "data": {
      "image/png": "[encoded data removed]",
      "text/plain": [
       "<matplotlib.figure.Figure at 0x110918350>"
      ]
     },
     "metadata": {},
     "output_type": "display_data"
    }
   ],
   "source": [
    "import matplotlib.pyplot as plt\n",
    "\n",
    "\n",
    "\n",
    "plt.plot(setosa[:, 0], setosa[:, 1], \"r.\", label=\"Setosa\")\n",
    "plt.plot(versicolor[:, 0], versicolor[:, 1], \"b^\", label=\"Versicolor\")\n",
    "plt.plot(virginica[:, 0], virginica[:, 1], \"g*\", label=\"Virginica\")\n",
    "\n",
    "#plt.plot(setosa_test[:, 0], setosa_test[:, 1], \"r.\", label=\"Setosa Test\")\n",
    "#plt.plot(versicolor_test[:, 0], versicolor_test[:, 1], \"r^\", label=\"Versicolor Test\")\n",
    "#plt.plot(virginica_test[:, 0], virginica_test[:, 1], \"r*\", label=\"Virginica Test\")\n",
    "\n",
    "plt.legend(loc=\"upper left\")\n",
    "plt.xlabel(\"Petal width\")\n",
    "plt.ylabel(\"Petal height\")\n",
    "\n",
    "plt.show()"
   ]
  },
  {
   "cell_type": "code",
   "execution_count": 10,
   "metadata": {},
   "outputs": [
    {
     "data": {
      "text/plain": [
       "array([[-2.55916473, -1.08692866],\n",
       "       [ 0.0866594 , -0.75008307],\n",
       "       [ 2.47250533,  1.83701173]])"
      ]
     },
     "execution_count": 10,
     "metadata": {},
     "output_type": "execute_result"
    }
   ],
   "source": [
    "softmax_reg.coef_"
   ]
  },
  {
   "cell_type": "code",
   "execution_count": 11,
   "metadata": {},
   "outputs": [
    {
     "data": {
      "text/plain": [
       "array([ 10.24145672,   2.8045215 , -13.04597822])"
      ]
     },
     "execution_count": 11,
     "metadata": {},
     "output_type": "execute_result"
    }
   ],
   "source": [
    "softmax_reg.intercept_"
   ]
  },
  {
   "cell_type": "code",
   "execution_count": null,
   "metadata": {},
   "outputs": [],
   "source": []
  }
 ],
 "metadata": {
  "kernelspec": {
   "display_name": "Python 2",
   "language": "python",
   "name": "python2"
  },
  "language_info": {
   "codemirror_mode": {
    "name": "ipython",
    "version": 2
   },
   "file_extension": ".py",
   "mimetype": "text/x-python",
   "name": "python",
   "nbconvert_exporter": "python",
   "pygments_lexer": "ipython2",
   "version": "2.7.10"
  }
 },
 "nbformat": 4,
 "nbformat_minor": 2
}
