{
 "cells": [
  {
   "cell_type": "code",
   "execution_count": 1,
   "metadata": {},
   "outputs": [],
   "source": [
    "import tensorflow as tf"
   ]
  },
  {
   "cell_type": "code",
   "execution_count": 6,
   "metadata": {},
   "outputs": [
    {
     "name": "stdout",
     "output_type": "stream",
     "text": [
      "Tensor(\"Const_2:0\", shape=(), dtype=int32)\n",
      "Tensor(\"Const_3:0\", shape=(3, 2), dtype=float32)\n"
     ]
    }
   ],
   "source": [
    "#constant is type of node.\n",
    "node1 = tf.constant(13)\n",
    "print(node1)\n",
    "node2 = tf.constant([[1,1.2],[21,45],[4,56]])\n",
    "print(node2)"
   ]
  },
  {
   "cell_type": "code",
   "execution_count": 3,
   "metadata": {},
   "outputs": [
    {
     "name": "stdout",
     "output_type": "stream",
     "text": [
      "13\n",
      "[[ 1 12]\n",
      " [21 45]\n",
      " [ 4 56]]\n",
      "[13, array([[ 1, 12],\n",
      "       [21, 45],\n",
      "       [ 4, 56]], dtype=int32)]\n"
     ]
    }
   ],
   "source": [
    "#create a session object and invoke run method to run the computational graph\n",
    "sess = tf.Session()\n",
    "print(sess.run(node1))\n",
    "print(sess.run(node2))\n",
    "print(sess.run([node1, node2]))"
   ]
  },
  {
   "cell_type": "code",
   "execution_count": 4,
   "metadata": {},
   "outputs": [
    {
     "name": "stdout",
     "output_type": "stream",
     "text": [
      "[[14 25]\n",
      " [34 58]\n",
      " [17 69]]\n"
     ]
    }
   ],
   "source": [
    "node3 = tf.add(node1, node2)\n",
    "print(sess.run(node3))"
   ]
  },
  {
   "cell_type": "code",
   "execution_count": 5,
   "metadata": {},
   "outputs": [
    {
     "name": "stdout",
     "output_type": "stream",
     "text": [
      "7.0\n",
      "[[ 12.  13.  14.]\n",
      " [ 35.  55.  14.]]\n"
     ]
    }
   ],
   "source": [
    "#a graph can be paramtererized to accept external inputs called placeholders\n",
    "a = tf.placeholder(tf.float32)\n",
    "b = tf.placeholder(tf.float32)\n",
    "\n",
    "#operation to be performed\n",
    "adder_node = a + b\n",
    "\n",
    "'''\n",
    "We can evaluate this graph with multiple inputs by using the \n",
    "feed_dict argument to the run method to feed concrete values to the placeholders\n",
    "'''\n",
    "\n",
    "print(sess.run(adder_node, {a: 3, b: 4}))\n",
    "print(sess.run(adder_node, {a:[[2,3,4], [23, 43, 2]], b: [[10], [12]]}))\n"
   ]
  },
  {
   "cell_type": "code",
   "execution_count": 7,
   "metadata": {},
   "outputs": [],
   "source": [
    "'''\n",
    "to train a model, we need to be able to modify the graph to get new outputs with same input\n",
    "Variables allow us to add trainable parameters to a graph\n",
    "They're constructed with a type and initial value\n",
    "'''\n",
    "W = tf.Variable([.3], dtype=tf.float32)\n",
    "b = tf.Variable([-.3], dtype=tf.float32)\n",
    "x = tf.placeholder(tf.float32)\n",
    "\n",
    "linear_model = W*x + b\n"
   ]
  },
  {
   "cell_type": "code",
   "execution_count": 8,
   "metadata": {},
   "outputs": [
    {
     "name": "stdout",
     "output_type": "stream",
     "text": [
      "[ 0.          0.30000001  0.60000002  0.90000004]\n"
     ]
    }
   ],
   "source": [
    "'''\n",
    "By contrast, variables are not initialized when you call tf.Variable. \n",
    "To initialize all the variables in a TensorFlow program, \n",
    "you must explicitly call global_variables_initializer()\n",
    "'''\n",
    "init = tf.global_variables_initializer()\n",
    "sess.run(init)\n",
    "'''\n",
    "init is a handle to the TensorFlow sub-graph that initializes all the global variables. \n",
    "Until we call sess.run, the variables are uninitialized.\n",
    "'''\n",
    "print(sess.run(linear_model, {x: [1, 2, 3, 4]}))"
   ]
  },
  {
   "cell_type": "code",
   "execution_count": 11,
   "metadata": {},
   "outputs": [
    {
     "name": "stdout",
     "output_type": "stream",
     "text": [
      "('squared detlas:', array([  0.        ,   1.68999982,   6.75999928,  15.21000099], dtype=float32))\n",
      "('loss:', 23.66)\n"
     ]
    }
   ],
   "source": [
    "'''\n",
    "We've created a model, but we don't know how good it is yet. \n",
    "To evaluate the model on training data, \n",
    "we need a y placeholder to provide the desired values, \n",
    "and we need to write a loss function.\n",
    "A loss function measures how far apart the current model is from the provided data.\n",
    "linear_model - y\n",
    "'''\n",
    "\n",
    "y = tf.placeholder(tf.float32)\n",
    "squared_deltas = tf.square(linear_model - y)\n",
    "loss = tf.reduce_sum(squared_deltas)\n",
    "\n",
    "print(\"squared detlas:\", sess.run(squared_deltas, {x: [1, 2, 3, 4], y:[0, -1, -2, -3]}))\n",
    "print(\"loss:\", sess.run(loss, {x: [1, 2, 3, 4], y:[0, -1, -2, -3]}))\n"
   ]
  },
  {
   "cell_type": "code",
   "execution_count": 12,
   "metadata": {},
   "outputs": [
    {
     "name": "stdout",
     "output_type": "stream",
     "text": [
      "0.0\n"
     ]
    }
   ],
   "source": [
    "'''\n",
    "A variable is initialized to the value provided to tf.Variable \n",
    "but can be changed using operations like tf.assign\n",
    "'''\n",
    "fixW = tf.assign(W, [-1.])\n",
    "fixb = tf.assign(b, [1.])\n",
    "sess.run([fixW, fixb])\n",
    "print(sess.run(loss, {x: [1, 2, 3, 4], y: [0, -1, -2, -3]}))"
   ]
  },
  {
   "cell_type": "code",
   "execution_count": 13,
   "metadata": {},
   "outputs": [
    {
     "data": {
      "text/plain": [
       "[array([-0.9999969], dtype=float32), array([ 0.99999082], dtype=float32)]"
      ]
     },
     "execution_count": 13,
     "metadata": {},
     "output_type": "execute_result"
    }
   ],
   "source": [
    "'''\n",
    "TensorFlow provides optimizers that slowly change each variable in order to minimize the loss function. \n",
    "The simplest optimizer is gradient descent\n",
    "ensorFlow produces derivatives given only a description of the model using the function tf.gradients\n",
    "'''\n",
    "optimizer = tf.train.GradientDescentOptimizer(0.01)\n",
    "train = optimizer.minimize(loss)\n",
    "\n",
    "sess.run(init)# reset values to incorrect defaults\n",
    "for i in range(1000):\n",
    "    sess.run(train, {x: [1, 2, 3, 4], y: [0, -1, -2, -3]})\n",
    "\n",
    "sess.run([W, b])"
   ]
  },
  {
   "cell_type": "code",
   "execution_count": null,
   "metadata": {},
   "outputs": [],
   "source": []
  }
 ],
 "metadata": {
  "kernelspec": {
   "display_name": "Python 2",
   "language": "python",
   "name": "python2"
  },
  "language_info": {
   "codemirror_mode": {
    "name": "ipython",
    "version": 2
   },
   "file_extension": ".py",
   "mimetype": "text/x-python",
   "name": "python",
   "nbconvert_exporter": "python",
   "pygments_lexer": "ipython2",
   "version": "2.7.10"
  }
 },
 "nbformat": 4,
 "nbformat_minor": 2
}
