{
 "cells": [
  {
   "cell_type": "code",
   "execution_count": 1,
   "metadata": {},
   "outputs": [],
   "source": [
    "import numpy as np\n",
    "import tensorflow as tf"
   ]
  },
  {
   "cell_type": "markdown",
   "metadata": {},
   "source": [
    "<ul>\n",
    "    <li>central unit of data = tensor</li>\n",
    "    <li>tensor = n-dimensional array</li>\n",
    "    <li>rank of tensor = number of dimensions</li>\n",
    "    <li>shape of tensor = tuple specifying array's length in each dimension</li>\n",
    "</ul>\n",
    "TensorFlow uses numpy arrays to represent tensor values."
   ]
  },
  {
   "cell_type": "code",
   "execution_count": 2,
   "metadata": {},
   "outputs": [
    {
     "data": {
      "text/plain": [
       "[[[1.0, 2.0, 3.0]], [[7.0, 8.0, 9.0]]]"
      ]
     },
     "execution_count": 2,
     "metadata": {},
     "output_type": "execute_result"
    }
   ],
   "source": [
    "3. # a rank 0 tensor; a scalar with shape [],\n",
    "[1., 2., 3.] # a rank 1 tensor; a vector with shape [3]\n",
    "[[1., 2., 3.], [4., 5., 6.]] # a rank 2 tensor; a matrix with shape [2, 3]\n",
    "[[[1., 2., 3.]], [[7., 8., 9.]]] # a rank 3 tensor with shape [2, 1, 3]"
   ]
  },
  {
   "cell_type": "markdown",
   "metadata": {},
   "source": [
    "<h2>TF Workflow</h2>\n",
    "<ol>\n",
    "    <li>Build a computational graph (tf.Graph)</li>\n",
    "    <li>Run the computational graph (tf.Session)</li>\n",
    "</ol>\n",
    "\n",
    "<h2>TF Graph</h2>\n",
    "A computational graph is a series of TF operations\n",
    "<ul>\n",
    "    <li><b>Nodes</b> of the graph represent operations (add, subtract, multiply)</li>\n",
    "    <li><b>Edges</b> of the graph represent the values (tensors) that flow through the graph</li>\n",
    "</ul>"
   ]
  },
  {
   "cell_type": "code",
   "execution_count": 3,
   "metadata": {},
   "outputs": [
    {
     "name": "stdout",
     "output_type": "stream",
     "text": [
      "Tensor(\"Const:0\", shape=(), dtype=float32)\n",
      "Tensor(\"Const_1:0\", shape=(), dtype=float32)\n",
      "Tensor(\"Add:0\", shape=(), dtype=float32)\n"
     ]
    }
   ],
   "source": [
    "# create two floating point tf constants\n",
    "a = tf.constant(3.0, tf.float32)\n",
    "b = tf.constant(4.0) # float32 is implicit here\n",
    "\n",
    "# adding the two contants\n",
    "total = tf.add(a, b)\n",
    "\n",
    "print a\n",
    "print b\n",
    "print total"
   ]
  },
  {
   "cell_type": "markdown",
   "metadata": {},
   "source": [
    "<p>The above statements build only a computational graph. These <b>tf.Tensor</b> objects just represent the results of the operations that will be run.</p>\n",
    "<p>\n",
    "    Each operation in a graph is given a unique name. It is independent of the name of the object. Tensors are named after the operation the produces them followed by an output index as in <b>Add:0</b>.\n",
    "</p>"
   ]
  },
  {
   "cell_type": "markdown",
   "metadata": {},
   "source": [
    "<h2>TensorBoard</h2>\n",
    "<p>TensorBoard can be used to visualize a computational graph</p>\n",
    "<p>Save the computation graph to a TensorBoard summary file</p>"
   ]
  },
  {
   "cell_type": "code",
   "execution_count": 4,
   "metadata": {},
   "outputs": [],
   "source": [
    "writer = tf.summary.FileWriter('.')\n",
    "writer.add_graph(tf.get_default_graph())"
   ]
  },
  {
   "cell_type": "markdown",
   "metadata": {},
   "source": [
    "<p>These will produce an <b>event</b> file in the current directory with the format <b>events.out.tfevents.{timestamp}.{hostname}</b>.</p>\n",
    "<p>\n",
    "    Now, in a new terminal, launch TensorBoard with the following shell command:\n",
    "</p>\n",
    "<b>tensorboard --logdir .</b>"
   ]
  },
  {
   "cell_type": "markdown",
   "metadata": {},
   "source": [
    "<h2>Session</h2>\n",
    "<p>To evaluate tensors, create <b>tf.Session</b> object. It encapsulates TF runtime and runs TF operations.</p>"
   ]
  },
  {
   "cell_type": "code",
   "execution_count": 6,
   "metadata": {},
   "outputs": [
    {
     "name": "stdout",
     "output_type": "stream",
     "text": [
      "7.0\n",
      "{'total': 7.0, 'ab': (3.0, 4.0)}\n"
     ]
    }
   ],
   "source": [
    "sess = tf.Session()\n",
    "print sess.run(total)\n",
    "\n",
    "# you can pass multiple tensors to run(). handles any combination of tuples or dictionaries\n",
    "print sess.run({'ab':(a, b), 'total':total})"
   ]
  },
  {
   "cell_type": "markdown",
   "metadata": {},
   "source": [
    "<h2>Feeding</h2>\n",
    "<p>A graph can be made to accept external inputs using <b>placeholders</b>.</p>"
   ]
  },
  {
   "cell_type": "code",
   "execution_count": 7,
   "metadata": {},
   "outputs": [],
   "source": [
    "x = tf.placeholder(tf.float32)\n",
    "y = tf.placeholder(tf.float32)\n",
    "z = x + y # + operator is overloaded to add tensors\n"
   ]
  },
  {
   "cell_type": "markdown",
   "metadata": {},
   "source": [
    "pass the placeholders tensors through <b>feed_dict</b> argument of <b>run()</b> method"
   ]
  },
  {
   "cell_type": "code",
   "execution_count": 8,
   "metadata": {},
   "outputs": [
    {
     "name": "stdout",
     "output_type": "stream",
     "text": [
      "7.0\n",
      "[ 4.  6.]\n"
     ]
    }
   ],
   "source": [
    "\n",
    "print sess.run(z, feed_dict={x: 3, y: 4})\n",
    "print sess.run(z, feed_dict={x: [1, 2], y: [3, 4]})"
   ]
  },
  {
   "cell_type": "markdown",
   "metadata": {},
   "source": [
    "<h2>Datasets</h2>\n",
    "<p>Placeholders work for simple programs. But Datasets are standard for streaming data into models.</p>"
   ]
  },
  {
   "cell_type": "code",
   "execution_count": 13,
   "metadata": {},
   "outputs": [
    {
     "name": "stdout",
     "output_type": "stream",
     "text": [
      "<TensorSliceDataset shapes: (2,), types: tf.int32>\n",
      "Tensor(\"IteratorGetNext_2:0\", shape=(2,), dtype=int32)\n"
     ]
    }
   ],
   "source": [
    "my_data = [\n",
    "    [0, 1,],\n",
    "    [2, 3,],\n",
    "    [4, 5,],\n",
    "    [6, 7,],\n",
    "]\n",
    "\n",
    "# from_tensor_slices() creates a Dataset whose elements are slices of the given tensor\n",
    "slices = tf.data.Dataset.from_tensor_slices(my_data)\n",
    "print slices\n",
    "\n",
    "# make_one_shot_iterator() returns an initialized iterator\n",
    "next_item = slices.make_one_shot_iterator().get_next()\n",
    "print next_item"
   ]
  },
  {
   "cell_type": "markdown",
   "metadata": {},
   "source": [
    "<p>\n",
    "    <b>from_tensor_slices()</b> creates a Dataset whose elements are slices of the given tensor.\n",
    "</p>\n",
    "<p>\n",
    "    <b>make_one_shot_iterator()</b> Creates an Iterator for enumerating the elements of this dataset. The returned iterator will be initialized automatically.\n",
    "</p>\n",
    "<p>\n",
    "    <b>get_next()</b> returns a nested structure of tf.Tensors representing the next element. You call this once and use its result as the input to another computation. Each time the result tensor of get_next() is run, the iterator will point to the next slice of the data. Reaching the end of the data stream causes Dataset to throw an <b>OutOfRangeError</b>.\n",
    "</p>"
   ]
  },
  {
   "cell_type": "code",
   "execution_count": 14,
   "metadata": {},
   "outputs": [
    {
     "name": "stdout",
     "output_type": "stream",
     "text": [
      "[0 1]\n",
      "[2 3]\n",
      "[4 5]\n",
      "[6 7]\n"
     ]
    }
   ],
   "source": [
    "while True:\n",
    "    try:\n",
    "        print(sess.run(next_item))\n",
    "    except tf.errors.OutOfRangeError:\n",
    "        break"
   ]
  },
  {
   "cell_type": "code",
   "execution_count": null,
   "metadata": {},
   "outputs": [],
   "source": []
  }
 ],
 "metadata": {
  "kernelspec": {
   "display_name": "Python 2",
   "language": "python",
   "name": "python2"
  },
  "language_info": {
   "codemirror_mode": {
    "name": "ipython",
    "version": 2
   },
   "file_extension": ".py",
   "mimetype": "text/x-python",
   "name": "python",
   "nbconvert_exporter": "python",
   "pygments_lexer": "ipython2",
   "version": "2.7.10"
  }
 },
 "nbformat": 4,
 "nbformat_minor": 2
}
