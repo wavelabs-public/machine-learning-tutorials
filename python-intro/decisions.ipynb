{
 "cells": [
  {
   "cell_type": "code",
   "execution_count": 1,
   "metadata": {},
   "outputs": [
    {
     "name": "stdout",
     "output_type": "stream",
     "text": [
      "x > y\n",
      "32 > 12\n"
     ]
    }
   ],
   "source": [
    "# if condition\n",
    "\n",
    "x = 32\n",
    "y = 12\n",
    "\n",
    "if (x > y):\n",
    "    print \"x > y\"\n",
    "    print \"32 > 12\"\n",
    "else:\n",
    "    print \"x < y\""
   ]
  },
  {
   "cell_type": "code",
   "execution_count": 2,
   "metadata": {},
   "outputs": [
    {
     "name": "stdout",
     "output_type": "stream",
     "text": [
      "True\n"
     ]
    }
   ],
   "source": [
    "# the condition can be replaced by numbers too. \n",
    "# 0 is considered false\n",
    "\n",
    "if True:\n",
    "    print True\n",
    "else:\n",
    "    print False"
   ]
  },
  {
   "cell_type": "code",
   "execution_count": 12,
   "metadata": {},
   "outputs": [
    {
     "name": "stdout",
     "output_type": "stream",
     "text": [
      "Expression value is less than 200\n",
      "Which is 100\n"
     ]
    }
   ],
   "source": [
    "# nested if with elif\n",
    "\n",
    "var = 100\n",
    "if var < 200:\n",
    "    print \"Expression value is less than 200\"\n",
    "    if var == 150:\n",
    "        print \"Which is 150\"\n",
    "    elif var == 100:\n",
    "        print \"Which is 100\"\n",
    "    elif var == 50:\n",
    "        print \"Which is 50\"\n",
    "    elif var < 50:\n",
    "        print \"Expression value is less than 50\"\n",
    "else:\n",
    "    print \"Could not find true expression\""
   ]
  },
  {
   "cell_type": "code",
   "execution_count": 13,
   "metadata": {},
   "outputs": [
    {
     "name": "stdout",
     "output_type": "stream",
     "text": [
      "Expression value is less than 200\n",
      "Which is 100\n"
     ]
    }
   ],
   "source": [
    "# nested if\n",
    "\n",
    "var = 100\n",
    "if var < 200:\n",
    "    print \"Expression value is less than 200\"\n",
    "    if var == 150:\n",
    "        print \"Which is 150\"\n",
    "    else:\n",
    "        if var == 100:\n",
    "            print \"Which is 100\"\n",
    "else:\n",
    "    print \"Could not find true expression\""
   ]
  },
  {
   "cell_type": "code",
   "execution_count": null,
   "metadata": {},
   "outputs": [],
   "source": []
  }
 ],
 "metadata": {
  "kernelspec": {
   "display_name": "Python 2",
   "language": "python",
   "name": "python2"
  },
  "language_info": {
   "codemirror_mode": {
    "name": "ipython",
    "version": 2
   },
   "file_extension": ".py",
   "mimetype": "text/x-python",
   "name": "python",
   "nbconvert_exporter": "python",
   "pygments_lexer": "ipython2",
   "version": "2.7.10"
  }
 },
 "nbformat": 4,
 "nbformat_minor": 2
}
