{
 "cells": [
  {
   "cell_type": "code",
   "execution_count": 3,
   "metadata": {},
   "outputs": [
    {
     "name": "stdout",
     "output_type": "stream",
     "text": [
      "hello Shashank!\n"
     ]
    }
   ],
   "source": [
    "def greetMe(name):\n",
    "    print \"hello\", name+\"!\"\n",
    "\n",
    "greetMe(\"Shashank\")"
   ]
  },
  {
   "cell_type": "code",
   "execution_count": 4,
   "metadata": {},
   "outputs": [
    {
     "name": "stdout",
     "output_type": "stream",
     "text": [
      "9\n"
     ]
    }
   ],
   "source": [
    "def square(num):\n",
    "    squared_num = num ** 2\n",
    "    return squared_num\n",
    "\n",
    "num = 3\n",
    "print square(num)"
   ]
  },
  {
   "cell_type": "code",
   "execution_count": 5,
   "metadata": {},
   "outputs": [
    {
     "name": "stdout",
     "output_type": "stream",
     "text": [
      "16\n",
      "16\n"
     ]
    }
   ],
   "source": [
    "# function arguments\n",
    "# Required arguments\n",
    "\n",
    "print square(4)\n",
    "print square(num=4)\n",
    "#print square() #throws an error"
   ]
  },
  {
   "cell_type": "code",
   "execution_count": 7,
   "metadata": {},
   "outputs": [
    {
     "name": "stdout",
     "output_type": "stream",
     "text": [
      "12\n",
      "18\n",
      "12\n"
     ]
    }
   ],
   "source": [
    "# keyword arguments\n",
    "\n",
    "def square_mul_num(num, mul_by):\n",
    "    return (num**2) * mul_by\n",
    "\n",
    "print square_mul_num(2, 3)\n",
    "print square_mul_num(3, 2)\n",
    "print square_mul_num(mul_by=3, num=2)"
   ]
  },
  {
   "cell_type": "code",
   "execution_count": 8,
   "metadata": {},
   "outputs": [
    {
     "name": "stdout",
     "output_type": "stream",
     "text": [
      "20\n",
      "4\n"
     ]
    }
   ],
   "source": [
    "# default arguments\n",
    "\n",
    "def square_mul_num_default(num, mul_by=1):\n",
    "    return (num**2) * mul_by\n",
    "print square_mul_num_default(2, 5)\n",
    "print square_mul_num_default(2)"
   ]
  },
  {
   "cell_type": "code",
   "execution_count": 11,
   "metadata": {},
   "outputs": [
    {
     "name": "stdout",
     "output_type": "stream",
     "text": [
      "240\n",
      "12\n",
      "4\n"
     ]
    }
   ],
   "source": [
    "# variable length arguments\n",
    "def square_mul_num_var(num, *var_num):\n",
    "    square_num = num ** 2\n",
    "    for i in var_num:\n",
    "        square_num = square_num * i\n",
    "        pass\n",
    "    return square_num\n",
    "\n",
    "print square_mul_num_var(2, 3, 4, 5)\n",
    "print square_mul_num_var(2, 3)\n",
    "print square_mul_num_var(2)"
   ]
  },
  {
   "cell_type": "code",
   "execution_count": null,
   "metadata": {},
   "outputs": [],
   "source": []
  }
 ],
 "metadata": {
  "kernelspec": {
   "display_name": "Python 2",
   "language": "python",
   "name": "python2"
  },
  "language_info": {
   "codemirror_mode": {
    "name": "ipython",
    "version": 2
   },
   "file_extension": ".py",
   "mimetype": "text/x-python",
   "name": "python",
   "nbconvert_exporter": "python",
   "pygments_lexer": "ipython2",
   "version": "2.7.10"
  }
 },
 "nbformat": 4,
 "nbformat_minor": 2
}
