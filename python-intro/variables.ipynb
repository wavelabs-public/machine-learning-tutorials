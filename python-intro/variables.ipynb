{
 "cells": [
  {
   "cell_type": "code",
   "execution_count": 2,
   "metadata": {},
   "outputs": [
    {
     "name": "stdout",
     "output_type": "stream",
     "text": [
      "Hello World!\n"
     ]
    }
   ],
   "source": [
    "print(\"Hello World!\")"
   ]
  },
  {
   "cell_type": "code",
   "execution_count": 1,
   "metadata": {},
   "outputs": [
    {
     "name": "stdout",
     "output_type": "stream",
     "text": [
      "Hello world\n",
      "Hello world hi hello\n"
     ]
    }
   ],
   "source": [
    "# concatenation \n",
    "print(\"Hello \"+ \"world\")\n",
    "print\"Hello\", \"world\", \"hi\", \"hello\""
   ]
  },
  {
   "cell_type": "code",
   "execution_count": 2,
   "metadata": {},
   "outputs": [
    {
     "name": "stdout",
     "output_type": "stream",
     "text": [
      "10 Hello\n",
      "12.54\n",
      "Hello World!\n",
      "Hello World!Hi\n",
      "Hello World! Hi\n",
      "True\n",
      "False\n"
     ]
    }
   ],
   "source": [
    "#Assigning values to variables \n",
    "\n",
    "integer_var = 10\n",
    "double_var = 12.54\n",
    "string_var = \"Hello World!\"\n",
    "bool_var1 = True\n",
    "bool_var2 = False\n",
    "\n",
    "# print variables\n",
    "print integer_var, 'Hello'\n",
    "print double_var\n",
    "print string_var\n",
    "print string_var + \"Hi\"\n",
    "print string_var , \"Hi\"\n",
    "print bool_var1\n",
    "print bool_var2"
   ]
  },
  {
   "cell_type": "code",
   "execution_count": 3,
   "metadata": {},
   "outputs": [
    {
     "name": "stdout",
     "output_type": "stream",
     "text": [
      "1 2.83 Python\n"
     ]
    }
   ],
   "source": [
    "# multiple assignments\n",
    "\n",
    "# int var_1 = 10\n",
    "# double var_2 = 2.3\n",
    "# String var-3 = \"Java\"\n",
    "\n",
    "var_1, var_2, var_3 = 1, 2.83, \"Python\"\n",
    "print var_1, var_2, var_3"
   ]
  },
  {
   "cell_type": "code",
   "execution_count": 6,
   "metadata": {},
   "outputs": [
    {
     "name": "stdout",
     "output_type": "stream",
     "text": [
      "Hello World!\n",
      "H\n",
      "llo \n",
      "llo World!\n",
      "He\n",
      "Hello World!Hello World!Hello World!\n",
      "Hello World!TEST\n"
     ]
    }
   ],
   "source": [
    "# Python Strings\n",
    "\n",
    "str1 = 'Hello World!'\n",
    "\n",
    "print str1          # Prints complete string\n",
    "print str1[0]       # Prints first character of the string\n",
    "print str1[2:6]     # Prints characters starting from 3rd to 5th\n",
    "print str1[2:]      # Prints string starting from 3rd character\n",
    "print str1[:2]      # Prints string starting from the begenning till the 3rd character\n",
    "print str1 * 3     # Prints string two times\n",
    "print str1 + \"TEST\" # Prints concatenated string"
   ]
  },
  {
   "cell_type": "code",
   "execution_count": 8,
   "metadata": {},
   "outputs": [
    {
     "name": "stdout",
     "output_type": "stream",
     "text": [
      "['abcd', 786, 2.23, 'john', 70.2]\n",
      "abcd\n",
      "[786, 2.23]\n",
      "[2.23, 'john', 70.2]\n",
      "[123, 'john', 123, 'john']\n",
      "['abcd', 786, 2.23, 'john', 70.2, 123, 'john']\n",
      "['abcd', 786, 2.23, 'john', 70.2, 'extra item']\n",
      "['ABC', 786, 134, 'john', 70.2, 'extra item']\n"
     ]
    }
   ],
   "source": [
    "# Python Lists\n",
    "# All the items belonging to a list can be of different data type.\n",
    "\n",
    "mylist = [ 'abcd', 786 , 2.23, 'john', 70.2 ]\n",
    "tinylist = [123, 'john']\n",
    "\n",
    "print mylist          # Prints complete list\n",
    "print mylist[0]       # Prints first element of the list\n",
    "print mylist[1:3]     # Prints elements starting from 2nd till 4th \n",
    "print mylist[2:]      # Prints elements starting from 3rd element\n",
    "print tinylist * 2  # Prints list two times\n",
    "print mylist + tinylist # Prints concatenated lists\n",
    "\n",
    "# adding more items to the list\n",
    "mylist.append(\"extra item\")\n",
    "print mylist\n",
    "\n",
    "# changing an item\n",
    "mylist[2] = 67 * 2\n",
    "mylist[0] = 'ABC'\n",
    "print mylist"
   ]
  },
  {
   "cell_type": "code",
   "execution_count": 23,
   "metadata": {},
   "outputs": [
    {
     "name": "stdout",
     "output_type": "stream",
     "text": [
      "('abcd', 786, 2.23, 'john', 70.2)\n",
      "abcd\n",
      "(786, 2.23)\n",
      "(2.23, 'john', 70.2)\n",
      "(123, 'john', 123, 'john')\n",
      "('abcd', 786, 2.23, 'john', 70.2, 123, 'john')\n"
     ]
    }
   ],
   "source": [
    "# Python Tuples\n",
    "# Tuples are enclosed in parantheses\n",
    "# Lists are mutable but tuples are not.\n",
    "\n",
    "mytuple = ( 'abcd', 786 , 2.23, 'john', 70.2  )\n",
    "tinytuple = (123, 'john')\n",
    "\n",
    "print mytuple           # Prints complete list\n",
    "print mytuple[0]        # Prints first element of the list\n",
    "print mytuple[1:3]      # Prints elements starting from 2nd till 3rd \n",
    "print mytuple[2:]       # Prints elements starting from 3rd element\n",
    "print tinytuple * 2   # Prints list two times\n",
    "print mytuple + tinytuple # Prints concatenated lists"
   ]
  },
  {
   "cell_type": "code",
   "execution_count": 9,
   "metadata": {},
   "outputs": [
    {
     "name": "stdout",
     "output_type": "stream",
     "text": [
      "This is one\n",
      "This is two\n",
      "{2: 'This is two', 'three': 3, 'one': 'This is one'}\n",
      "{'dept': 'sales', 'code': 6734, 'name': 'john'}\n",
      "['dept', 'code', 'name']\n",
      "['sales', 6734, 'john']\n"
     ]
    }
   ],
   "source": [
    "# Python Dictionaries\n",
    "# Dictionaries are enclosed by curly braces{ } and values can be assigned and accessed using square braces[]\n",
    "mydict = {}\n",
    "mydict['one'] = \"This is one\"\n",
    "mydict[2]     = \"This is two\"\n",
    "\n",
    "tinydict = {'name': 'john','code':6734, 'dept': 'sales'}\n",
    "\n",
    "\n",
    "print mydict['one']       # Prints value for 'one' key\n",
    "print mydict[2]           # Prints value for 2 key\n",
    "print mydict\n",
    "print tinydict          # Prints complete dictionary\n",
    "print tinydict.keys()   # Prints all the keys\n",
    "print tinydict.values() # Prints all the values\n",
    "\n"
   ]
  },
  {
   "cell_type": "code",
   "execution_count": null,
   "metadata": {},
   "outputs": [],
   "source": []
  }
 ],
 "metadata": {
  "kernelspec": {
   "display_name": "Python 2",
   "language": "python",
   "name": "python2"
  },
  "language_info": {
   "codemirror_mode": {
    "name": "ipython",
    "version": 2
   },
   "file_extension": ".py",
   "mimetype": "text/x-python",
   "name": "python",
   "nbconvert_exporter": "python",
   "pygments_lexer": "ipython2",
   "version": "2.7.10"
  }
 },
 "nbformat": 4,
 "nbformat_minor": 2
}
