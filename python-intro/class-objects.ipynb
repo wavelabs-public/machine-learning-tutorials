{
 "cells": [
  {
   "cell_type": "code",
   "execution_count": 7,
   "metadata": {},
   "outputs": [],
   "source": [
    "class Person:\n",
    "    # variable common to all objects\n",
    "    personCount = 0\n",
    "    # constructor\n",
    "    def __init__(self, name, age):\n",
    "        self.name = name\n",
    "        self.age = age\n",
    "        Person.personCount += 1\n",
    "        return\n",
    "    def displayProfile(self):\n",
    "        print \"Name:\", self.name, \"Age:\", self.age"
   ]
  },
  {
   "cell_type": "code",
   "execution_count": 8,
   "metadata": {},
   "outputs": [
    {
     "name": "stdout",
     "output_type": "stream",
     "text": [
      "Name: Kumar Age: 32\n",
      "Person objects created: 2\n"
     ]
    }
   ],
   "source": [
    "# Creating objects\n",
    "person1 = Person(\"Kumar\", 32)\n",
    "person2 = Person(\"Sharma\", 21)\n",
    "\n",
    "# accessing attributes\n",
    "person1.displayProfile()\n",
    "\n",
    "print \"Person objects created:\", Person.personCount"
   ]
  },
  {
   "cell_type": "code",
   "execution_count": 10,
   "metadata": {},
   "outputs": [
    {
     "data": {
      "text/plain": [
       "('Kumar', 'Sharma')"
      ]
     },
     "execution_count": 10,
     "metadata": {},
     "output_type": "execute_result"
    }
   ],
   "source": [
    "person1.name, person2.name"
   ]
  },
  {
   "cell_type": "code",
   "execution_count": 14,
   "metadata": {},
   "outputs": [
    {
     "name": "stdout",
     "output_type": "stream",
     "text": [
      "Calling child constructor\n",
      "Calling child method\n",
      "Calling parent method\n",
      "Parent attribute : 200\n",
      "in child\n",
      "about to delete object\n"
     ]
    }
   ],
   "source": [
    "# Inheritence\n",
    "# class SubClassName (ParentClass1[, ParentClass2, ...]):\n",
    "\n",
    "class Parent:        # define parent class\n",
    "    parentAttr = 100\n",
    "    def __init__(self):\n",
    "        print \"Calling parent constructor\"\n",
    "\n",
    "    def parentMethod(self):\n",
    "        print 'Calling parent method'\n",
    "\n",
    "    def setAttr(self, attr):\n",
    "        Parent.parentAttr = attr\n",
    "\n",
    "    def getAttr(self):\n",
    "        print \"Parent attribute :\", Parent.parentAttr\n",
    "    \n",
    "    def myMethod(self):\n",
    "        print \"in parent\"\n",
    "\n",
    "class Child(Parent1, Parent2): # define child class\n",
    "    def __init__(self):\n",
    "        print \"Calling child constructor\"\n",
    "\n",
    "    def childMethod(self):\n",
    "        print 'Calling child method'\n",
    "    \n",
    "    # method overriding\n",
    "    def myMethod(self):\n",
    "        print \"in child\"\n",
    "    \n",
    "    def __del__(self):\n",
    "        print \"about to delete object\"\n",
    "    \n",
    "\n",
    "c = Child()          # instance of child\n",
    "c.childMethod()      # child calls its method\n",
    "c.parentMethod()     # calls parent's method\n",
    "c.setAttr(200)       # again call parent's method\n",
    "c.getAttr()          # again call parent's method\n",
    "c.myMethod()         # calls child's method\n",
    "del c"
   ]
  },
  {
   "cell_type": "code",
   "execution_count": null,
   "metadata": {},
   "outputs": [],
   "source": []
  }
 ],
 "metadata": {
  "kernelspec": {
   "display_name": "Python 2",
   "language": "python",
   "name": "python2"
  },
  "language_info": {
   "codemirror_mode": {
    "name": "ipython",
    "version": 2
   },
   "file_extension": ".py",
   "mimetype": "text/x-python",
   "name": "python",
   "nbconvert_exporter": "python",
   "pygments_lexer": "ipython2",
   "version": "2.7.10"
  }
 },
 "nbformat": 4,
 "nbformat_minor": 2
}
