{
 "cells": [
  {
   "cell_type": "code",
   "execution_count": 3,
   "metadata": {},
   "outputs": [
    {
     "name": "stdout",
     "output_type": "stream",
     "text": [
      "The count is: 0\n",
      "The count is: 1\n",
      "The count is: 2\n",
      "The count is: 3\n",
      "The count is: 4\n",
      "The count is: 5\n",
      "The count is: 6\n",
      "The count is: 7\n",
      "The count is: 8\n",
      "while loop ends\n"
     ]
    }
   ],
   "source": [
    "# the while loop\n",
    "\n",
    "count = 0\n",
    "while (count < 9):\n",
    "    print 'The count is:', count\n",
    "    count = count + 1\n",
    "    pass\n",
    "\n",
    "print \"while loop ends\""
   ]
  },
  {
   "cell_type": "code",
   "execution_count": 3,
   "metadata": {},
   "outputs": [
    {
     "name": "stdout",
     "output_type": "stream",
     "text": [
      "12\n",
      "43\n",
      "567\n",
      "243\n",
      "124\n",
      "65\n",
      "for-in loop ends\n"
     ]
    }
   ],
   "source": [
    "# the for-in loop\n",
    "\n",
    "mylist = [12, 43, 567, 243, 124, 65]\n",
    "\n",
    "for item in mylist:\n",
    "    print item\n",
    "    pass\n",
    "print \"for-in loop ends\""
   ]
  },
  {
   "cell_type": "code",
   "execution_count": 6,
   "metadata": {},
   "outputs": [
    {
     "name": "stdout",
     "output_type": "stream",
     "text": [
      "567\n",
      "count: 2\n",
      "243\n",
      "count: 3\n",
      "124\n",
      "count: 4\n",
      "65\n",
      "count: 5\n",
      "loop ends\n"
     ]
    }
   ],
   "source": [
    "# using range function\n",
    "\n",
    "for i in range(len(mylist)):\n",
    "    print mylist[i]\n",
    "    print \"count:\", i\n",
    "    pass\n",
    "print \"loop ends\""
   ]
  },
  {
   "cell_type": "code",
   "execution_count": null,
   "metadata": {},
   "outputs": [],
   "source": []
  }
 ],
 "metadata": {
  "kernelspec": {
   "display_name": "Python 2",
   "language": "python",
   "name": "python2"
  },
  "language_info": {
   "codemirror_mode": {
    "name": "ipython",
    "version": 2
   },
   "file_extension": ".py",
   "mimetype": "text/x-python",
   "name": "python",
   "nbconvert_exporter": "python",
   "pygments_lexer": "ipython2",
   "version": "2.7.10"
  }
 },
 "nbformat": 4,
 "nbformat_minor": 2
}
