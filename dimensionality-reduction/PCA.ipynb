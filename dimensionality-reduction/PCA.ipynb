{
 "cells": [
  {
   "cell_type": "code",
   "execution_count": 11,
   "metadata": {},
   "outputs": [],
   "source": [
    "from sklearn.datasets import fetch_mldata\n",
    "\n",
    "mnist = fetch_mldata('MNIST original')\n",
    "X, y = mnist[\"data\"], mnist[\"target\"]"
   ]
  },
  {
   "cell_type": "code",
   "execution_count": 10,
   "metadata": {},
   "outputs": [
    {
     "data": {
      "image/png": "[encoded data removed]",
      "text/plain": [
       "<matplotlib.figure.Figure at 0x104dd5c10>"
      ]
     },
     "metadata": {},
     "output_type": "display_data"
    },
    {
     "data": {
      "text/plain": [
       "0.0"
      ]
     },
     "execution_count": 10,
     "metadata": {},
     "output_type": "execute_result"
    }
   ],
   "source": [
    "import matplotlib\n",
    "import matplotlib.pyplot as plt\n",
    "\n",
    "pos = 0\n",
    "some_digit = X[pos]\n",
    "digit_image = some_digit.reshape(28, 28)\n",
    "#digit_image\n",
    "\n",
    "plt.imshow(digit_image, cmap = matplotlib.cm.binary, interpolation=\"nearest\")\n",
    "#plt.axis(\"off\")\n",
    "plt.show()\n",
    "y[pos]"
   ]
  },
  {
   "cell_type": "code",
   "execution_count": 17,
   "metadata": {},
   "outputs": [
    {
     "data": {
      "text/plain": [
       "PCA(copy=True, iterated_power='auto', n_components=0.86, random_state=None,\n",
       "  svd_solver='auto', tol=0.0, whiten=False)"
      ]
     },
     "execution_count": 17,
     "metadata": {},
     "output_type": "execute_result"
    }
   ],
   "source": [
    "from sklearn.decomposition import PCA\n",
    "\n",
    "pca = PCA(n_components=0.86)\n",
    "pca.fit(X)"
   ]
  },
  {
   "cell_type": "code",
   "execution_count": 18,
   "metadata": {},
   "outputs": [
    {
     "name": "stdout",
     "output_type": "stream",
     "text": [
      "(63,)\n"
     ]
    },
    {
     "data": {
      "text/plain": [
       "array([ 334294.06141858,  245433.42714428,  210930.35458571,\n",
       "        185337.35631911,  167691.57240407,  147670.29662309,\n",
       "        112445.13893067,   99115.38328577,   94612.53876189,\n",
       "         80335.95693768,   72259.91131116,   69888.55401389,\n",
       "         58552.70586367,   58105.2757568 ,   54310.38213844,\n",
       "         50981.9785895 ,   45254.30567604,   43870.48880605,\n",
       "         40723.72476346,   39545.99920588,   36565.41457692,\n",
       "         34636.18258277,   32899.11209852,   31200.69647811,\n",
       "         30296.9449957 ,   28771.66123482,   27777.4204322 ,\n",
       "         26950.30813599,   25391.16806522,   23667.64747479,\n",
       "         22505.89276121,   22139.78233326,   20608.24294431,\n",
       "         20086.62021524,   19439.77996863,   18641.17105068,\n",
       "         17311.91383404,   16706.9383288 ,   16428.27352292,\n",
       "         16038.57182531,   15584.95051226,   15260.79209582,\n",
       "         14344.92737514,   13588.51490256,   13161.26567149,\n",
       "         12889.506883  ,   12397.00628599,   11971.62560722,\n",
       "         11618.57340054,   10965.65354331,   10868.16745452,\n",
       "         10638.04320538,   10169.34560933,    9847.64698821,\n",
       "          9690.28943076,    9241.26224106,    9205.91899638,\n",
       "          8798.33041867,    8683.71672269,    8391.48477493,\n",
       "          8221.84293899,    8183.3842825 ,    7862.77132984])"
      ]
     },
     "execution_count": 18,
     "metadata": {},
     "output_type": "execute_result"
    }
   ],
   "source": [
    "print pca.explained_variance_.shape\n",
    "pca.explained_variance_"
   ]
  },
  {
   "cell_type": "code",
   "execution_count": 19,
   "metadata": {},
   "outputs": [
    {
     "data": {
      "text/plain": [
       "array([ 0.09746116,  0.07155445,  0.06149531,  0.05403385,  0.04888934,\n",
       "        0.04305227,  0.03278262,  0.02889642,  0.02758364,  0.0234214 ,\n",
       "        0.02106689,  0.02037553,  0.01707064,  0.0169402 ,  0.01583382,\n",
       "        0.01486345,  0.01319358,  0.01279014,  0.01187272,  0.01152937,\n",
       "        0.0106604 ,  0.01009794,  0.00959151,  0.00909635,  0.00883287,\n",
       "        0.00838818,  0.00809832,  0.00785718,  0.00740262,  0.00690014,\n",
       "        0.00656144,  0.0064547 ,  0.00600819,  0.00585612,  0.00566754,\n",
       "        0.00543471,  0.00504717,  0.00487079,  0.00478955,  0.00467594,\n",
       "        0.00454369,  0.00444918,  0.00418217,  0.00396164,  0.00383708,\n",
       "        0.00375785,  0.00361426,  0.00349025,  0.00338732,  0.00319696,\n",
       "        0.00316854,  0.00310145,  0.0029648 ,  0.00287101,  0.00282514,\n",
       "        0.00269423,  0.00268392,  0.00256509,  0.00253168,  0.00244648,\n",
       "        0.00239702,  0.00238581,  0.00229234])"
      ]
     },
     "execution_count": 19,
     "metadata": {},
     "output_type": "execute_result"
    }
   ],
   "source": [
    "pca.explained_variance_ratio_"
   ]
  },
  {
   "cell_type": "code",
   "execution_count": 8,
   "metadata": {},
   "outputs": [
    {
     "data": {
      "text/plain": [
       "(154,)"
      ]
     },
     "execution_count": 8,
     "metadata": {},
     "output_type": "execute_result"
    }
   ],
   "source": [
    "pca.explained_variance_ratio_.shape"
   ]
  },
  {
   "cell_type": "code",
   "execution_count": 13,
   "metadata": {},
   "outputs": [
    {
     "data": {
      "text/plain": [
       "(70000, 784)"
      ]
     },
     "execution_count": 13,
     "metadata": {},
     "output_type": "execute_result"
    }
   ],
   "source": [
    "X.shape"
   ]
  },
  {
   "cell_type": "code",
   "execution_count": 20,
   "metadata": {},
   "outputs": [
    {
     "data": {
      "text/plain": [
       "(70000, 63)"
      ]
     },
     "execution_count": 20,
     "metadata": {},
     "output_type": "execute_result"
    }
   ],
   "source": [
    "X_compress = pca.transform(X)\n",
    "X_compress.shape"
   ]
  },
  {
   "cell_type": "code",
   "execution_count": null,
   "metadata": {
    "collapsed": true
   },
   "outputs": [],
   "source": []
  }
 ],
 "metadata": {
  "kernelspec": {
   "display_name": "Python 2",
   "language": "python",
   "name": "python2"
  },
  "language_info": {
   "codemirror_mode": {
    "name": "ipython",
    "version": 2
   },
   "file_extension": ".py",
   "mimetype": "text/x-python",
   "name": "python",
   "nbconvert_exporter": "python",
   "pygments_lexer": "ipython2",
   "version": "2.7.10"
  }
 },
 "nbformat": 4,
 "nbformat_minor": 2
}
